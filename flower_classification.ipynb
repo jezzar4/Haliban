{
  "nbformat": 4,
  "nbformat_minor": 0,
  "metadata": {
    "colab": {
      "provenance": [],
      "gpuType": "T4"
    },
    "kernelspec": {
      "name": "python3",
      "display_name": "Python 3"
    },
    "language_info": {
      "name": "python"
    },
    "accelerator": "GPU"
  },
  "cells": [
    {
      "cell_type": "code",
      "execution_count": null,
      "metadata": {
        "id": "SAjASNYGP7fQ"
      },
      "outputs": [],
      "source": [
        "import tensorflow as tf\n",
        "from tensorflow.keras.models import Sequential\n",
        "from tensorflow.keras.layers import Conv2D, MaxPooling2D, Flatten, Dense, Dropout\n",
        "from tensorflow.keras.preprocessing.image import ImageDataGenerator\n",
        "import matplotlib.pyplot as plt\n",
        "import numpy as np"
      ]
    },
    {
      "cell_type": "code",
      "source": [
        "import kagglehub\n",
        "\n",
        "# Download latest version\n",
        "path = kagglehub.dataset_download(\"imsparsh/flowers-dataset\")\n",
        "\n",
        "print(\"Path to dataset files:\", path)"
      ],
      "metadata": {
        "colab": {
          "base_uri": "https://localhost:8080/"
        },
        "id": "W6he3GgY5kTA",
        "outputId": "3fe2b2f3-b19d-4241-d9ef-b28474899107"
      },
      "execution_count": null,
      "outputs": [
        {
          "output_type": "stream",
          "name": "stdout",
          "text": [
            "Path to dataset files: /kaggle/input/flowers-dataset\n"
          ]
        }
      ]
    },
    {
      "cell_type": "code",
      "source": [
        "data_dir= \"/root/.cache/kagglehub/datasets/imsparsh/flowers-dataset/versions/2\"\n",
        "train_dir=\"/root/.cache/kagglehub/datasets/imsparsh/flowers-dataset/versions/2/train\"\n",
        "test_dir = \"/root/.cache/kagglehub/datasets/imsparsh/flowers-dataset/versions/2/test\""
      ],
      "metadata": {
        "id": "vPpL_XSM2xFi"
      },
      "execution_count": null,
      "outputs": []
    },
    {
      "cell_type": "code",
      "source": [
        "img_size1=(224,224)\n",
        "img_size2=(180,180)\n",
        "batch_size=32"
      ],
      "metadata": {
        "id": "ewWgKmXR6ApI"
      },
      "execution_count": null,
      "outputs": []
    },
    {
      "cell_type": "code",
      "source": [
        "train_ds = tf.keras.preprocessing.image_dataset_from_directory(\n",
        "    train_dir,\n",
        "    image_size=img_size2,\n",
        "    batch_size=batch_size,\n",
        "    validation_split=0.2,\n",
        "    subset=\"training\",\n",
        "    seed=42,\n",
        "    label_mode=\"categorical\"\n",
        ")\n",
        "\n",
        "val_ds = tf.keras.preprocessing.image_dataset_from_directory(\n",
        "    train_dir,\n",
        "    image_size=img_size2,\n",
        "    batch_size=batch_size,\n",
        "    validation_split=0.2,\n",
        "    subset=\"validation\",\n",
        "    seed=42,\n",
        "    label_mode=\"categorical\"\n",
        ")\n",
        "class_names=train_ds.class_names\n",
        "print(\"Flower Classes:\", class_names)"
      ],
      "metadata": {
        "colab": {
          "base_uri": "https://localhost:8080/"
        },
        "id": "HRuo2yDY6wpq",
        "outputId": "98edd75d-c882-4f03-b6b1-27e90b06f45e"
      },
      "execution_count": null,
      "outputs": [
        {
          "output_type": "stream",
          "name": "stdout",
          "text": [
            "Found 2746 files belonging to 5 classes.\n",
            "Using 2197 files for training.\n",
            "Found 2746 files belonging to 5 classes.\n",
            "Using 549 files for validation.\n",
            "Flower Classes: ['daisy', 'dandelion', 'rose', 'sunflower', 'tulip']\n"
          ]
        }
      ]
    },
    {
      "cell_type": "code",
      "source": [
        "import os\n",
        "from tensorflow.keras.utils import load_img, img_to_array"
      ],
      "metadata": {
        "id": "_e30xqPK9SMG"
      },
      "execution_count": null,
      "outputs": []
    },
    {
      "cell_type": "code",
      "source": [
        "def load_test_images(directory, img_size=img_size2):\n",
        "    image_list = []\n",
        "    file_names = []\n",
        "\n",
        "    for fname in os.listdir(directory):\n",
        "        if fname.lower().endswith(('.jpg', '.jpeg', '.png')):\n",
        "            img_path = os.path.join(directory, fname)\n",
        "            img = load_img(img_path, target_size=img_size)\n",
        "            img_array = img_to_array(img) / 255.0\n",
        "            image_list.append(img_array)\n",
        "            file_names.append(fname)\n",
        "\n",
        "    return np.array(image_list), file_names\n",
        "\n",
        "X_test, test_filenames = load_test_images(test_dir)\n",
        "print(\"Test images loaded:\", len(X_test))\n"
      ],
      "metadata": {
        "colab": {
          "base_uri": "https://localhost:8080/"
        },
        "id": "B8Qfx5-19bfS",
        "outputId": "3c736f52-9437-47e1-81c8-afe401fc37e7"
      },
      "execution_count": null,
      "outputs": [
        {
          "output_type": "stream",
          "name": "stdout",
          "text": [
            "Test images loaded: 924\n"
          ]
        }
      ]
    },
    {
      "cell_type": "code",
      "source": [
        "model= Sequential([\n",
        "    Conv2D(32, (3,3), activation=\"relu\", input_shape=(180,180,3)),\n",
        "    MaxPooling2D(2,2),\n",
        "    Conv2D(64, (3,3), activation='relu'),\n",
        "    MaxPooling2D(2,2),\n",
        "    Conv2D(128, (3,3), activation='relu'),\n",
        "    MaxPooling2D(2,2),\n",
        "\n",
        "    Flatten(),\n",
        "    Dense(128, activation='relu'),\n",
        "    Dropout(0.5),\n",
        "    Dense(len(class_names), activation='softmax')\n",
        "])"
      ],
      "metadata": {
        "colab": {
          "base_uri": "https://localhost:8080/"
        },
        "id": "gHWMSamk9gyr",
        "outputId": "61592b47-834b-4518-f6a9-15f62932d637"
      },
      "execution_count": null,
      "outputs": [
        {
          "output_type": "stream",
          "name": "stderr",
          "text": [
            "/usr/local/lib/python3.11/dist-packages/keras/src/layers/convolutional/base_conv.py:107: UserWarning: Do not pass an `input_shape`/`input_dim` argument to a layer. When using Sequential models, prefer using an `Input(shape)` object as the first layer in the model instead.\n",
            "  super().__init__(activity_regularizer=activity_regularizer, **kwargs)\n"
          ]
        }
      ]
    },
    {
      "cell_type": "code",
      "source": [
        "model.compile(optimizer='adam', loss='categorical_crossentropy', metrics=[\"accuracy\"])\n",
        "\n",
        "history=model.fit(train_ds, epochs=10, validation_data=val_ds)"
      ],
      "metadata": {
        "colab": {
          "base_uri": "https://localhost:8080/"
        },
        "id": "b56ZwjqC-mP2",
        "outputId": "10b3a0b3-7c70-49ef-f376-113fbc83f9ca"
      },
      "execution_count": null,
      "outputs": [
        {
          "output_type": "stream",
          "name": "stdout",
          "text": [
            "Epoch 1/10\n",
            "\u001b[1m69/69\u001b[0m \u001b[32m━━━━━━━━━━━━━━━━━━━━\u001b[0m\u001b[37m\u001b[0m \u001b[1m14s\u001b[0m 131ms/step - accuracy: 0.2316 - loss: 62.6278 - val_accuracy: 0.2587 - val_loss: 1.6029\n",
            "Epoch 2/10\n",
            "\u001b[1m69/69\u001b[0m \u001b[32m━━━━━━━━━━━━━━━━━━━━\u001b[0m\u001b[37m\u001b[0m \u001b[1m4s\u001b[0m 58ms/step - accuracy: 0.3118 - loss: 1.5547 - val_accuracy: 0.2987 - val_loss: 1.5452\n",
            "Epoch 3/10\n",
            "\u001b[1m69/69\u001b[0m \u001b[32m━━━━━━━━━━━━━━━━━━━━\u001b[0m\u001b[37m\u001b[0m \u001b[1m5s\u001b[0m 60ms/step - accuracy: 0.3751 - loss: 1.4461 - val_accuracy: 0.3169 - val_loss: 1.5580\n",
            "Epoch 4/10\n",
            "\u001b[1m69/69\u001b[0m \u001b[32m━━━━━━━━━━━━━━━━━━━━\u001b[0m\u001b[37m\u001b[0m \u001b[1m4s\u001b[0m 51ms/step - accuracy: 0.4579 - loss: 1.2853 - val_accuracy: 0.3242 - val_loss: 1.7804\n",
            "Epoch 5/10\n",
            "\u001b[1m69/69\u001b[0m \u001b[32m━━━━━━━━━━━━━━━━━━━━\u001b[0m\u001b[37m\u001b[0m \u001b[1m3s\u001b[0m 49ms/step - accuracy: 0.5169 - loss: 1.1867 - val_accuracy: 0.3461 - val_loss: 1.8363\n",
            "Epoch 6/10\n",
            "\u001b[1m69/69\u001b[0m \u001b[32m━━━━━━━━━━━━━━━━━━━━\u001b[0m\u001b[37m\u001b[0m \u001b[1m4s\u001b[0m 58ms/step - accuracy: 0.6452 - loss: 0.9548 - val_accuracy: 0.4226 - val_loss: 1.8117\n",
            "Epoch 7/10\n",
            "\u001b[1m69/69\u001b[0m \u001b[32m━━━━━━━━━━━━━━━━━━━━\u001b[0m\u001b[37m\u001b[0m \u001b[1m4s\u001b[0m 58ms/step - accuracy: 0.7169 - loss: 0.8072 - val_accuracy: 0.3643 - val_loss: 2.1757\n",
            "Epoch 8/10\n",
            "\u001b[1m69/69\u001b[0m \u001b[32m━━━━━━━━━━━━━━━━━━━━\u001b[0m\u001b[37m\u001b[0m \u001b[1m5s\u001b[0m 58ms/step - accuracy: 0.7205 - loss: 0.7201 - val_accuracy: 0.3625 - val_loss: 2.0856\n",
            "Epoch 9/10\n",
            "\u001b[1m69/69\u001b[0m \u001b[32m━━━━━━━━━━━━━━━━━━━━\u001b[0m\u001b[37m\u001b[0m \u001b[1m6s\u001b[0m 71ms/step - accuracy: 0.7848 - loss: 0.5853 - val_accuracy: 0.4189 - val_loss: 2.3018\n",
            "Epoch 10/10\n",
            "\u001b[1m69/69\u001b[0m \u001b[32m━━━━━━━━━━━━━━━━━━━━\u001b[0m\u001b[37m\u001b[0m \u001b[1m4s\u001b[0m 48ms/step - accuracy: 0.7966 - loss: 0.5442 - val_accuracy: 0.4262 - val_loss: 2.5159\n"
          ]
        }
      ]
    },
    {
      "cell_type": "code",
      "source": [
        "plt.plot(history.history['accuracy'], label='Train Accuracy')\n",
        "plt.plot(history.history['val_accuracy'], label='Val Accuracy')\n",
        "plt.legend()\n",
        "plt.title(\"Training & Validation Accuracy\")\n",
        "plt.show()"
      ],
      "metadata": {
        "colab": {
          "base_uri": "https://localhost:8080/",
          "height": 452
        },
        "id": "R0-wKrCj_MGG",
        "outputId": "458b1d10-7d12-4f87-cb91-b00a54848592"
      },
      "execution_count": null,
      "outputs": [
        {
          "output_type": "display_data",
          "data": {
            "text/plain": [
              "<Figure size 640x480 with 1 Axes>"
            ],
            "image/png": "[encoded data removed]"
          },
          "metadata": {}
        }
      ]
    },
    {
      "cell_type": "code",
      "source": [
        "tf.keras.backend.clear_session()"
      ],
      "metadata": {
        "id": "QnjXy1HGKDr1"
      },
      "execution_count": null,
      "outputs": []
    },
    {
      "cell_type": "code",
      "source": [
        "model = tf.keras.Sequential([\n",
        "    tf.keras.layers.Rescaling(1./255, input_shape=(180, 180, 3)),\n",
        "    tf.keras.layers.Conv2D(32, 3, activation='relu'),\n",
        "    tf.keras.layers.MaxPooling2D(),\n",
        "    tf.keras.layers.Conv2D(64, 3, activation='relu'),\n",
        "    tf.keras.layers.MaxPooling2D(),\n",
        "    tf.keras.layers.Dropout(0.3),\n",
        "    tf.keras.layers.Flatten(),\n",
        "    tf.keras.layers.Dense(128, activation='relu'),\n",
        "    tf.keras.layers.Dropout(0.5),\n",
        "    tf.keras.layers.Dense(5, activation='softmax')\n",
        "])\n"
      ],
      "metadata": {
        "colab": {
          "base_uri": "https://localhost:8080/"
        },
        "id": "qiXT6_PjKD9C",
        "outputId": "1e64ce43-8e56-47af-dc83-97ee6c50778c"
      },
      "execution_count": null,
      "outputs": [
        {
          "output_type": "stream",
          "name": "stderr",
          "text": [
            "/usr/local/lib/python3.11/dist-packages/keras/src/layers/preprocessing/tf_data_layer.py:19: UserWarning: Do not pass an `input_shape`/`input_dim` argument to a layer. When using Sequential models, prefer using an `Input(shape)` object as the first layer in the model instead.\n",
            "  super().__init__(**kwargs)\n"
          ]
        }
      ]
    },
    {
      "cell_type": "code",
      "source": [
        "model.compile(optimizer='adam', loss='categorical_crossentropy', metrics=[\"accuracy\"])\n",
        "\n",
        "history=model.fit(train_ds, epochs=10, validation_data=val_ds)"
      ],
      "metadata": {
        "colab": {
          "base_uri": "https://localhost:8080/"
        },
        "id": "1kcE0yDzKUJp",
        "outputId": "56eb09e6-926f-468b-eecd-721b06c1b2a0"
      },
      "execution_count": null,
      "outputs": [
        {
          "output_type": "stream",
          "name": "stdout",
          "text": [
            "Epoch 1/10\n",
            "\u001b[1m69/69\u001b[0m \u001b[32m━━━━━━━━━━━━━━━━━━━━\u001b[0m\u001b[37m\u001b[0m \u001b[1m11s\u001b[0m 111ms/step - accuracy: 0.3037 - loss: 2.0897 - val_accuracy: 0.5137 - val_loss: 1.1620\n",
            "Epoch 2/10\n",
            "\u001b[1m69/69\u001b[0m \u001b[32m━━━━━━━━━━━━━━━━━━━━\u001b[0m\u001b[37m\u001b[0m \u001b[1m3s\u001b[0m 48ms/step - accuracy: 0.5151 - loss: 1.1583 - val_accuracy: 0.5993 - val_loss: 0.9967\n",
            "Epoch 3/10\n",
            "\u001b[1m69/69\u001b[0m \u001b[32m━━━━━━━━━━━━━━━━━━━━\u001b[0m\u001b[37m\u001b[0m \u001b[1m5s\u001b[0m 48ms/step - accuracy: 0.6233 - loss: 0.9636 - val_accuracy: 0.5883 - val_loss: 0.9521\n",
            "Epoch 4/10\n",
            "\u001b[1m69/69\u001b[0m \u001b[32m━━━━━━━━━━━━━━━━━━━━\u001b[0m\u001b[37m\u001b[0m \u001b[1m5s\u001b[0m 49ms/step - accuracy: 0.7265 - loss: 0.7231 - val_accuracy: 0.6412 - val_loss: 0.9365\n",
            "Epoch 5/10\n",
            "\u001b[1m69/69\u001b[0m \u001b[32m━━━━━━━━━━━━━━━━━━━━\u001b[0m\u001b[37m\u001b[0m \u001b[1m6s\u001b[0m 58ms/step - accuracy: 0.8113 - loss: 0.5434 - val_accuracy: 0.6248 - val_loss: 1.0848\n",
            "Epoch 6/10\n",
            "\u001b[1m69/69\u001b[0m \u001b[32m━━━━━━━━━━━━━━━━━━━━\u001b[0m\u001b[37m\u001b[0m \u001b[1m5s\u001b[0m 62ms/step - accuracy: 0.8564 - loss: 0.4193 - val_accuracy: 0.6430 - val_loss: 1.0877\n",
            "Epoch 7/10\n",
            "\u001b[1m69/69\u001b[0m \u001b[32m━━━━━━━━━━━━━━━━━━━━\u001b[0m\u001b[37m\u001b[0m \u001b[1m3s\u001b[0m 48ms/step - accuracy: 0.8919 - loss: 0.3183 - val_accuracy: 0.6211 - val_loss: 1.2758\n",
            "Epoch 8/10\n",
            "\u001b[1m69/69\u001b[0m \u001b[32m━━━━━━━━━━━━━━━━━━━━\u001b[0m\u001b[37m\u001b[0m \u001b[1m4s\u001b[0m 58ms/step - accuracy: 0.9399 - loss: 0.1932 - val_accuracy: 0.6084 - val_loss: 1.3897\n",
            "Epoch 9/10\n",
            "\u001b[1m69/69\u001b[0m \u001b[32m━━━━━━━━━━━━━━━━━━━━\u001b[0m\u001b[37m\u001b[0m \u001b[1m5s\u001b[0m 65ms/step - accuracy: 0.9517 - loss: 0.1707 - val_accuracy: 0.6557 - val_loss: 1.3557\n",
            "Epoch 10/10\n",
            "\u001b[1m69/69\u001b[0m \u001b[32m━━━━━━━━━━━━━━━━━━━━\u001b[0m\u001b[37m\u001b[0m \u001b[1m4s\u001b[0m 49ms/step - accuracy: 0.9592 - loss: 0.1260 - val_accuracy: 0.6521 - val_loss: 1.4323\n"
          ]
        }
      ]
    },
    {
      "cell_type": "code",
      "source": [
        "tf.keras.backend.clear_session()"
      ],
      "metadata": {
        "id": "9LVnYexQMHwl"
      },
      "execution_count": null,
      "outputs": []
    },
    {
      "cell_type": "code",
      "source": [
        "data_augmentation = tf.keras.Sequential([\n",
        "    tf.keras.layers.RandomFlip(\"horizontal\"),\n",
        "    tf.keras.layers.RandomRotation(0.1),\n",
        "    tf.keras.layers.RandomZoom(0.1),\n",
        "])"
      ],
      "metadata": {
        "id": "1o7aswBHKYny"
      },
      "execution_count": null,
      "outputs": []
    },
    {
      "cell_type": "code",
      "source": [
        "model = tf.keras.Sequential([\n",
        "    tf.keras.layers.Rescaling(1./255, input_shape=(180, 180, 3)),\n",
        "    tf.keras.layers.Conv2D(32, 3, activation='relu'),\n",
        "    tf.keras.layers.MaxPooling2D(),\n",
        "    tf.keras.layers.Conv2D(64, 3, activation='relu'),\n",
        "    tf.keras.layers.MaxPooling2D(),\n",
        "    tf.keras.layers.Dropout(0.3),\n",
        "    tf.keras.layers.Flatten(),\n",
        "    tf.keras.layers.Dense(128, activation='relu'),\n",
        "    tf.keras.layers.Dropout(0.5),\n",
        "    tf.keras.layers.Dense(5, activation='softmax')\n",
        "])\n",
        "model.compile(optimizer='nadam', loss='categorical_crossentropy', metrics=[\"accuracy\"])\n",
        "\n",
        "history=model.fit(train_ds, epochs=10, validation_data=val_ds)"
      ],
      "metadata": {
        "colab": {
          "base_uri": "https://localhost:8080/"
        },
        "id": "KiA84pWKMLRx",
        "outputId": "7db24df6-40ab-467f-843a-c311bf422ac7"
      },
      "execution_count": null,
      "outputs": [
        {
          "output_type": "stream",
          "name": "stdout",
          "text": [
            "Epoch 1/10\n"
          ]
        },
        {
          "output_type": "stream",
          "name": "stderr",
          "text": [
            "/usr/local/lib/python3.11/dist-packages/keras/src/layers/preprocessing/tf_data_layer.py:19: UserWarning: Do not pass an `input_shape`/`input_dim` argument to a layer. When using Sequential models, prefer using an `Input(shape)` object as the first layer in the model instead.\n",
            "  super().__init__(**kwargs)\n"
          ]
        },
        {
          "output_type": "stream",
          "name": "stdout",
          "text": [
            "\u001b[1m69/69\u001b[0m \u001b[32m━━━━━━━━━━━━━━━━━━━━\u001b[0m\u001b[37m\u001b[0m \u001b[1m11s\u001b[0m 101ms/step - accuracy: 0.3379 - loss: 2.3255 - val_accuracy: 0.4954 - val_loss: 1.1819\n",
            "Epoch 2/10\n",
            "\u001b[1m69/69\u001b[0m \u001b[32m━━━━━━━━━━━━━━━━━━━━\u001b[0m\u001b[37m\u001b[0m \u001b[1m5s\u001b[0m 48ms/step - accuracy: 0.5623 - loss: 1.1408 - val_accuracy: 0.6175 - val_loss: 0.9774\n",
            "Epoch 3/10\n",
            "\u001b[1m69/69\u001b[0m \u001b[32m━━━━━━━━━━━━━━━━━━━━\u001b[0m\u001b[37m\u001b[0m \u001b[1m6s\u001b[0m 65ms/step - accuracy: 0.6545 - loss: 0.9066 - val_accuracy: 0.6175 - val_loss: 1.0074\n",
            "Epoch 4/10\n",
            "\u001b[1m69/69\u001b[0m \u001b[32m━━━━━━━━━━━━━━━━━━━━\u001b[0m\u001b[37m\u001b[0m \u001b[1m4s\u001b[0m 57ms/step - accuracy: 0.7676 - loss: 0.6556 - val_accuracy: 0.6157 - val_loss: 0.9908\n",
            "Epoch 5/10\n",
            "\u001b[1m69/69\u001b[0m \u001b[32m━━━━━━━━━━━━━━━━━━━━\u001b[0m\u001b[37m\u001b[0m \u001b[1m5s\u001b[0m 58ms/step - accuracy: 0.8413 - loss: 0.4807 - val_accuracy: 0.6284 - val_loss: 1.1646\n",
            "Epoch 6/10\n",
            "\u001b[1m69/69\u001b[0m \u001b[32m━━━━━━━━━━━━━━━━━━━━\u001b[0m\u001b[37m\u001b[0m \u001b[1m5s\u001b[0m 68ms/step - accuracy: 0.8738 - loss: 0.3721 - val_accuracy: 0.6594 - val_loss: 1.1361\n",
            "Epoch 7/10\n",
            "\u001b[1m69/69\u001b[0m \u001b[32m━━━━━━━━━━━━━━━━━━━━\u001b[0m\u001b[37m\u001b[0m \u001b[1m3s\u001b[0m 47ms/step - accuracy: 0.9157 - loss: 0.2717 - val_accuracy: 0.6339 - val_loss: 1.2957\n",
            "Epoch 8/10\n",
            "\u001b[1m69/69\u001b[0m \u001b[32m━━━━━━━━━━━━━━━━━━━━\u001b[0m\u001b[37m\u001b[0m \u001b[1m4s\u001b[0m 58ms/step - accuracy: 0.9294 - loss: 0.2144 - val_accuracy: 0.6066 - val_loss: 1.4676\n",
            "Epoch 9/10\n",
            "\u001b[1m69/69\u001b[0m \u001b[32m━━━━━━━━━━━━━━━━━━━━\u001b[0m\u001b[37m\u001b[0m \u001b[1m5s\u001b[0m 69ms/step - accuracy: 0.9297 - loss: 0.1943 - val_accuracy: 0.6175 - val_loss: 1.4271\n",
            "Epoch 10/10\n",
            "\u001b[1m69/69\u001b[0m \u001b[32m━━━━━━━━━━━━━━━━━━━━\u001b[0m\u001b[37m\u001b[0m \u001b[1m4s\u001b[0m 48ms/step - accuracy: 0.9536 - loss: 0.1620 - val_accuracy: 0.6011 - val_loss: 1.7097\n"
          ]
        }
      ]
    },
    {
      "cell_type": "code",
      "source": [
        "early_stop = tf.keras.callbacks.EarlyStopping(\n",
        "    monitor='val_loss',\n",
        "    patience=5,\n",
        "    restore_best_weights=True\n",
        ")\n",
        "\n",
        "model.fit(train_ds, validation_data=val_ds, epochs=30, callbacks=[early_stop])"
      ],
      "metadata": {
        "colab": {
          "base_uri": "https://localhost:8080/"
        },
        "id": "wYasEex8MN_Y",
        "outputId": "f0f793da-f993-4f56-e976-6f00a29c3681"
      },
      "execution_count": null,
      "outputs": [
        {
          "output_type": "stream",
          "name": "stdout",
          "text": [
            "Epoch 1/30\n",
            "\u001b[1m69/69\u001b[0m \u001b[32m━━━━━━━━━━━━━━━━━━━━\u001b[0m\u001b[37m\u001b[0m \u001b[1m5s\u001b[0m 66ms/step - accuracy: 0.9867 - loss: 0.0919 - val_accuracy: 0.6339 - val_loss: 1.9662\n",
            "Epoch 2/30\n",
            "\u001b[1m69/69\u001b[0m \u001b[32m━━━━━━━━━━━━━━━━━━━━\u001b[0m\u001b[37m\u001b[0m \u001b[1m4s\u001b[0m 57ms/step - accuracy: 0.9674 - loss: 0.1231 - val_accuracy: 0.6193 - val_loss: 2.0223\n",
            "Epoch 3/30\n",
            "\u001b[1m69/69\u001b[0m \u001b[32m━━━━━━━━━━━━━━━━━━━━\u001b[0m\u001b[37m\u001b[0m \u001b[1m4s\u001b[0m 59ms/step - accuracy: 0.9683 - loss: 0.1067 - val_accuracy: 0.6430 - val_loss: 1.8512\n",
            "Epoch 4/30\n",
            "\u001b[1m69/69\u001b[0m \u001b[32m━━━━━━━━━━━━━━━━━━━━\u001b[0m\u001b[37m\u001b[0m \u001b[1m4s\u001b[0m 53ms/step - accuracy: 0.9789 - loss: 0.0806 - val_accuracy: 0.6029 - val_loss: 2.1675\n",
            "Epoch 5/30\n",
            "\u001b[1m69/69\u001b[0m \u001b[32m━━━━━━━━━━━━━━━━━━━━\u001b[0m\u001b[37m\u001b[0m \u001b[1m5s\u001b[0m 58ms/step - accuracy: 0.9786 - loss: 0.0801 - val_accuracy: 0.6029 - val_loss: 1.7683\n",
            "Epoch 6/30\n",
            "\u001b[1m69/69\u001b[0m \u001b[32m━━━━━━━━━━━━━━━━━━━━\u001b[0m\u001b[37m\u001b[0m \u001b[1m5s\u001b[0m 69ms/step - accuracy: 0.9793 - loss: 0.0806 - val_accuracy: 0.6193 - val_loss: 1.8165\n",
            "Epoch 7/30\n",
            "\u001b[1m69/69\u001b[0m \u001b[32m━━━━━━━━━━━━━━━━━━━━\u001b[0m\u001b[37m\u001b[0m \u001b[1m4s\u001b[0m 48ms/step - accuracy: 0.9827 - loss: 0.0596 - val_accuracy: 0.6302 - val_loss: 1.9002\n",
            "Epoch 8/30\n",
            "\u001b[1m69/69\u001b[0m \u001b[32m━━━━━━━━━━━━━━━━━━━━\u001b[0m\u001b[37m\u001b[0m \u001b[1m4s\u001b[0m 58ms/step - accuracy: 0.9799 - loss: 0.0615 - val_accuracy: 0.6339 - val_loss: 1.9691\n",
            "Epoch 9/30\n",
            "\u001b[1m69/69\u001b[0m \u001b[32m━━━━━━━━━━━━━━━━━━━━\u001b[0m\u001b[37m\u001b[0m \u001b[1m6s\u001b[0m 64ms/step - accuracy: 0.9845 - loss: 0.0568 - val_accuracy: 0.6029 - val_loss: 2.3483\n",
            "Epoch 10/30\n",
            "\u001b[1m69/69\u001b[0m \u001b[32m━━━━━━━━━━━━━━━━━━━━\u001b[0m\u001b[37m\u001b[0m \u001b[1m3s\u001b[0m 49ms/step - accuracy: 0.9783 - loss: 0.0732 - val_accuracy: 0.6248 - val_loss: 2.0541\n"
          ]
        },
        {
          "output_type": "execute_result",
          "data": {
            "text/plain": [
              "<keras.src.callbacks.history.History at 0x7ef3b6ad8e50>"
            ]
          },
          "metadata": {},
          "execution_count": 37
        }
      ]
    },
    {
      "cell_type": "code",
      "source": [
        "tf.keras.backend.clear_session()"
      ],
      "metadata": {
        "id": "lS21b27EM5CC"
      },
      "execution_count": null,
      "outputs": []
    },
    {
      "cell_type": "code",
      "source": [
        "data_augmentation = tf.keras.Sequential([\n",
        "    tf.keras.layers.RandomFlip(\"horizontal\"),\n",
        "    tf.keras.layers.RandomRotation(0.1),\n",
        "    tf.keras.layers.RandomZoom(0.1),\n",
        "])\n",
        "\n",
        "model = tf.keras.Sequential([\n",
        "    tf.keras.layers.Rescaling(1./255, input_shape=(180, 180, 3)),\n",
        "    tf.keras.layers.Conv2D(32, 3, activation='relu'),\n",
        "    tf.keras.layers.MaxPooling2D(),\n",
        "    tf.keras.layers.Conv2D(64, 3, activation='relu'),\n",
        "    tf.keras.layers.MaxPooling2D(),\n",
        "    tf.keras.layers.Dropout(0.3),\n",
        "    tf.keras.layers.Flatten(),\n",
        "    tf.keras.layers.Dense(128, activation='relu',\n",
        "                      kernel_regularizer=tf.keras.regularizers.l2(0.01)),\n",
        "    tf.keras.layers.Dropout(0.5),\n",
        "    tf.keras.layers.Dense(5, activation='softmax')\n",
        "])\n",
        "early_stop = tf.keras.callbacks.EarlyStopping(\n",
        "    monitor='val_loss',\n",
        "    patience=5,\n",
        "    restore_best_weights=True\n",
        ")\n",
        "model.compile(optimizer='nadam', loss='categorical_crossentropy', metrics=[\"accuracy\"])\n",
        "\n",
        "history=model.fit(train_ds, epochs=30, validation_data=val_ds,  callbacks=[early_stop])\n"
      ],
      "metadata": {
        "colab": {
          "base_uri": "https://localhost:8080/"
        },
        "id": "QFidNwHTNZ1T",
        "outputId": "c0450225-b99c-44dd-c52f-3012b7c9dc18"
      },
      "execution_count": null,
      "outputs": [
        {
          "output_type": "stream",
          "name": "stdout",
          "text": [
            "Epoch 1/30\n"
          ]
        },
        {
          "output_type": "stream",
          "name": "stderr",
          "text": [
            "/usr/local/lib/python3.11/dist-packages/keras/src/layers/preprocessing/tf_data_layer.py:19: UserWarning: Do not pass an `input_shape`/`input_dim` argument to a layer. When using Sequential models, prefer using an `Input(shape)` object as the first layer in the model instead.\n",
            "  super().__init__(**kwargs)\n"
          ]
        },
        {
          "output_type": "stream",
          "name": "stdout",
          "text": [
            "\u001b[1m69/69\u001b[0m \u001b[32m━━━━━━━━━━━━━━━━━━━━\u001b[0m\u001b[37m\u001b[0m \u001b[1m10s\u001b[0m 101ms/step - accuracy: 0.3407 - loss: 3.1881 - val_accuracy: 0.4900 - val_loss: 1.5196\n",
            "Epoch 2/30\n",
            "\u001b[1m69/69\u001b[0m \u001b[32m━━━━━━━━━━━━━━━━━━━━\u001b[0m\u001b[37m\u001b[0m \u001b[1m4s\u001b[0m 58ms/step - accuracy: 0.4553 - loss: 1.5671 - val_accuracy: 0.4681 - val_loss: 1.4445\n",
            "Epoch 3/30\n",
            "\u001b[1m69/69\u001b[0m \u001b[32m━━━━━━━━━━━━━━━━━━━━\u001b[0m\u001b[37m\u001b[0m \u001b[1m6s\u001b[0m 66ms/step - accuracy: 0.5068 - loss: 1.4897 - val_accuracy: 0.5938 - val_loss: 1.4234\n",
            "Epoch 4/30\n",
            "\u001b[1m69/69\u001b[0m \u001b[32m━━━━━━━━━━━━━━━━━━━━\u001b[0m\u001b[37m\u001b[0m \u001b[1m4s\u001b[0m 48ms/step - accuracy: 0.5402 - loss: 1.5064 - val_accuracy: 0.5647 - val_loss: 1.4455\n",
            "Epoch 5/30\n",
            "\u001b[1m69/69\u001b[0m \u001b[32m━━━━━━━━━━━━━━━━━━━━\u001b[0m\u001b[37m\u001b[0m \u001b[1m4s\u001b[0m 57ms/step - accuracy: 0.5438 - loss: 1.5344 - val_accuracy: 0.5865 - val_loss: 1.4539\n",
            "Epoch 6/30\n",
            "\u001b[1m69/69\u001b[0m \u001b[32m━━━━━━━━━━━━━━━━━━━━\u001b[0m\u001b[37m\u001b[0m \u001b[1m4s\u001b[0m 64ms/step - accuracy: 0.5823 - loss: 1.5450 - val_accuracy: 0.5883 - val_loss: 1.5645\n",
            "Epoch 7/30\n",
            "\u001b[1m69/69\u001b[0m \u001b[32m━━━━━━━━━━━━━━━━━━━━\u001b[0m\u001b[37m\u001b[0m \u001b[1m4s\u001b[0m 57ms/step - accuracy: 0.5873 - loss: 1.5687 - val_accuracy: 0.6157 - val_loss: 1.4700\n",
            "Epoch 8/30\n",
            "\u001b[1m69/69\u001b[0m \u001b[32m━━━━━━━━━━━━━━━━━━━━\u001b[0m\u001b[37m\u001b[0m \u001b[1m4s\u001b[0m 57ms/step - accuracy: 0.5974 - loss: 1.5588 - val_accuracy: 0.6302 - val_loss: 1.4760\n"
          ]
        }
      ]
    },
    {
      "cell_type": "code",
      "source": [
        "acc = history.history['accuracy']\n",
        "val_acc = history.history['val_accuracy']\n",
        "epochs = range(1, len(acc) + 1)\n",
        "\n",
        "plt.figure(figsize=(8, 6))\n",
        "plt.plot(epochs, acc, 'bo-', label='Training Accuracy')\n",
        "plt.plot(epochs, val_acc, 'ro-', label='Validation Accuracy')\n",
        "plt.title('Training and Validation Accuracy')\n",
        "plt.xlabel('Epochs')\n",
        "plt.ylabel('Accuracy')\n",
        "plt.legend()\n",
        "plt.grid(True)\n",
        "plt.show()"
      ],
      "metadata": {
        "colab": {
          "base_uri": "https://localhost:8080/",
          "height": 564
        },
        "id": "2wUjAlPtUC20",
        "outputId": "2405629a-b1c9-474b-a610-4e008a9d4995"
      },
      "execution_count": null,
      "outputs": [
        {
          "output_type": "display_data",
          "data": {
            "text/plain": [
              "<Figure size 800x600 with 1 Axes>"
            ],
            "image/png": "[encoded data removed]"
          },
          "metadata": {}
        }
      ]
    },
    {
      "cell_type": "code",
      "source": [
        "tf.keras.backend.clear_session()"
      ],
      "metadata": {
        "id": "PqHwD0ogNr1D"
      },
      "execution_count": null,
      "outputs": []
    },
    {
      "cell_type": "code",
      "source": [
        "model = tf.keras.Sequential([\n",
        "    tf.keras.layers.Conv2D(32, (3, 3), activation='relu', input_shape=(180, 180, 3)),\n",
        "    tf.keras.layers.MaxPooling2D(2, 2),\n",
        "    tf.keras.layers.Conv2D(64, (3, 3), activation='relu'),\n",
        "    tf.keras.layers.MaxPooling2D(2, 2),\n",
        "    tf.keras.layers.Conv2D(128, (3, 3), activation='relu'),\n",
        "    tf.keras.layers.MaxPooling2D(2, 2),\n",
        "    tf.keras.layers.Flatten(),\n",
        "    tf.keras.layers.Dense(256, activation='relu'),\n",
        "    tf.keras.layers.Dropout(0.5),\n",
        "    tf.keras.layers.Dense(5, activation='softmax')\n",
        "])\n",
        "early_stop = tf.keras.callbacks.EarlyStopping(\n",
        "    monitor='val_loss',\n",
        "    patience=5,\n",
        "    restore_best_weights=True\n",
        ")\n",
        "model.compile(optimizer='nadam', loss='categorical_crossentropy', metrics=[\"accuracy\"])\n",
        "\n",
        "history=model.fit(train_ds, epochs=30, validation_data=val_ds,  callbacks=[early_stop])"
      ],
      "metadata": {
        "colab": {
          "base_uri": "https://localhost:8080/"
        },
        "id": "hjdYtARWPwh5",
        "outputId": "98407a92-77ca-43ad-a96c-aef0972419cc"
      },
      "execution_count": null,
      "outputs": [
        {
          "output_type": "stream",
          "name": "stdout",
          "text": [
            "Epoch 1/30\n"
          ]
        },
        {
          "output_type": "stream",
          "name": "stderr",
          "text": [
            "/usr/local/lib/python3.11/dist-packages/keras/src/layers/convolutional/base_conv.py:107: UserWarning: Do not pass an `input_shape`/`input_dim` argument to a layer. When using Sequential models, prefer using an `Input(shape)` object as the first layer in the model instead.\n",
            "  super().__init__(activity_regularizer=activity_regularizer, **kwargs)\n"
          ]
        },
        {
          "output_type": "stream",
          "name": "stdout",
          "text": [
            "\u001b[1m69/69\u001b[0m \u001b[32m━━━━━━━━━━━━━━━━━━━━\u001b[0m\u001b[37m\u001b[0m \u001b[1m13s\u001b[0m 123ms/step - accuracy: 0.3187 - loss: 101.0728 - val_accuracy: 0.4517 - val_loss: 1.4926\n",
            "Epoch 2/30\n",
            "\u001b[1m69/69\u001b[0m \u001b[32m━━━━━━━━━━━━━━━━━━━━\u001b[0m\u001b[37m\u001b[0m \u001b[1m13s\u001b[0m 49ms/step - accuracy: 0.5223 - loss: 1.2938 - val_accuracy: 0.5301 - val_loss: 1.2060\n",
            "Epoch 3/30\n",
            "\u001b[1m69/69\u001b[0m \u001b[32m━━━━━━━━━━━━━━━━━━━━\u001b[0m\u001b[37m\u001b[0m \u001b[1m4s\u001b[0m 61ms/step - accuracy: 0.6474 - loss: 0.9899 - val_accuracy: 0.4991 - val_loss: 1.2600\n",
            "Epoch 4/30\n",
            "\u001b[1m69/69\u001b[0m \u001b[32m━━━━━━━━━━━━━━━━━━━━\u001b[0m\u001b[37m\u001b[0m \u001b[1m5s\u001b[0m 57ms/step - accuracy: 0.6720 - loss: 0.8991 - val_accuracy: 0.5064 - val_loss: 1.3696\n",
            "Epoch 5/30\n",
            "\u001b[1m69/69\u001b[0m \u001b[32m━━━━━━━━━━━━━━━━━━━━\u001b[0m\u001b[37m\u001b[0m \u001b[1m4s\u001b[0m 48ms/step - accuracy: 0.7727 - loss: 0.6500 - val_accuracy: 0.4499 - val_loss: 2.1249\n",
            "Epoch 6/30\n",
            "\u001b[1m69/69\u001b[0m \u001b[32m━━━━━━━━━━━━━━━━━━━━\u001b[0m\u001b[37m\u001b[0m \u001b[1m5s\u001b[0m 74ms/step - accuracy: 0.8268 - loss: 0.5833 - val_accuracy: 0.4718 - val_loss: 1.7836\n",
            "Epoch 7/30\n",
            "\u001b[1m69/69\u001b[0m \u001b[32m━━━━━━━━━━━━━━━━━━━━\u001b[0m\u001b[37m\u001b[0m \u001b[1m3s\u001b[0m 48ms/step - accuracy: 0.8319 - loss: 0.4972 - val_accuracy: 0.5209 - val_loss: 1.8445\n"
          ]
        }
      ]
    },
    {
      "cell_type": "code",
      "source": [
        "tf.keras.backend.clear_session()"
      ],
      "metadata": {
        "id": "kJAa5_k5QFDJ"
      },
      "execution_count": null,
      "outputs": []
    },
    {
      "cell_type": "code",
      "source": [
        "base_model = tf.keras.applications.MobileNetV2(input_shape=(180, 180, 3),\n",
        "                                                include_top=False,\n",
        "                                                weights='imagenet')\n",
        "\n",
        "base_model.trainable = False\n",
        "model = tf.keras.Sequential([\n",
        "    tf.keras.layers.Rescaling(1./255),\n",
        "    base_model,\n",
        "    tf.keras.layers.GlobalAveragePooling2D(),\n",
        "    tf.keras.layers.Dropout(0.3),\n",
        "    tf.keras.layers.Dense(5, activation='softmax')\n",
        "])\n",
        "early_stop = tf.keras.callbacks.EarlyStopping(\n",
        "    monitor='val_loss',\n",
        "    patience=5,\n",
        "    restore_best_weights=True\n",
        ")\n",
        "model.compile(optimizer='nadam', loss='categorical_crossentropy', metrics=[\"accuracy\"])\n",
        "\n",
        "history=model.fit(train_ds, epochs=30, validation_data=val_ds,  callbacks=[early_stop])"
      ],
      "metadata": {
        "colab": {
          "base_uri": "https://localhost:8080/"
        },
        "id": "z4RkZodbQG7b",
        "outputId": "f0e239a8-b36e-48fd-c552-ffe0114e5173"
      },
      "execution_count": null,
      "outputs": [
        {
          "output_type": "stream",
          "name": "stderr",
          "text": [
            "/tmp/ipython-input-51-3631908761.py:1: UserWarning: `input_shape` is undefined or non-square, or `rows` is not in [96, 128, 160, 192, 224]. Weights for input shape (224, 224) will be loaded as the default.\n",
            "  base_model = tf.keras.applications.MobileNetV2(input_shape=(180, 180, 3),\n"
          ]
        },
        {
          "output_type": "stream",
          "name": "stdout",
          "text": [
            "Epoch 1/30\n",
            "\u001b[1m69/69\u001b[0m \u001b[32m━━━━━━━━━━━━━━━━━━━━\u001b[0m\u001b[37m\u001b[0m \u001b[1m23s\u001b[0m 193ms/step - accuracy: 0.4440 - loss: 1.5288 - val_accuracy: 0.7923 - val_loss: 0.5630\n",
            "Epoch 2/30\n",
            "\u001b[1m69/69\u001b[0m \u001b[32m━━━━━━━━━━━━━━━━━━━━\u001b[0m\u001b[37m\u001b[0m \u001b[1m5s\u001b[0m 73ms/step - accuracy: 0.7867 - loss: 0.5648 - val_accuracy: 0.8452 - val_loss: 0.4490\n",
            "Epoch 3/30\n",
            "\u001b[1m69/69\u001b[0m \u001b[32m━━━━━━━━━━━━━━━━━━━━\u001b[0m\u001b[37m\u001b[0m \u001b[1m4s\u001b[0m 53ms/step - accuracy: 0.8419 - loss: 0.4717 - val_accuracy: 0.8506 - val_loss: 0.3982\n",
            "Epoch 4/30\n",
            "\u001b[1m69/69\u001b[0m \u001b[32m━━━━━━━━━━━━━━━━━━━━\u001b[0m\u001b[37m\u001b[0m \u001b[1m6s\u001b[0m 61ms/step - accuracy: 0.8556 - loss: 0.3701 - val_accuracy: 0.8543 - val_loss: 0.3854\n",
            "Epoch 5/30\n",
            "\u001b[1m69/69\u001b[0m \u001b[32m━━━━━━━━━━━━━━━━━━━━\u001b[0m\u001b[37m\u001b[0m \u001b[1m5s\u001b[0m 68ms/step - accuracy: 0.8770 - loss: 0.3397 - val_accuracy: 0.8725 - val_loss: 0.3641\n",
            "Epoch 6/30\n",
            "\u001b[1m69/69\u001b[0m \u001b[32m━━━━━━━━━━━━━━━━━━━━\u001b[0m\u001b[37m\u001b[0m \u001b[1m4s\u001b[0m 52ms/step - accuracy: 0.8920 - loss: 0.2951 - val_accuracy: 0.8689 - val_loss: 0.3561\n",
            "Epoch 7/30\n",
            "\u001b[1m69/69\u001b[0m \u001b[32m━━━━━━━━━━━━━━━━━━━━\u001b[0m\u001b[37m\u001b[0m \u001b[1m4s\u001b[0m 53ms/step - accuracy: 0.8965 - loss: 0.2737 - val_accuracy: 0.8816 - val_loss: 0.3489\n",
            "Epoch 8/30\n",
            "\u001b[1m69/69\u001b[0m \u001b[32m━━━━━━━━━━━━━━━━━━━━\u001b[0m\u001b[37m\u001b[0m \u001b[1m5s\u001b[0m 58ms/step - accuracy: 0.9048 - loss: 0.2695 - val_accuracy: 0.8725 - val_loss: 0.3484\n",
            "Epoch 9/30\n",
            "\u001b[1m69/69\u001b[0m \u001b[32m━━━━━━━━━━━━━━━━━━━━\u001b[0m\u001b[37m\u001b[0m \u001b[1m5s\u001b[0m 61ms/step - accuracy: 0.9159 - loss: 0.2348 - val_accuracy: 0.8761 - val_loss: 0.3439\n",
            "Epoch 10/30\n",
            "\u001b[1m69/69\u001b[0m \u001b[32m━━━━━━━━━━━━━━━━━━━━\u001b[0m\u001b[37m\u001b[0m \u001b[1m5s\u001b[0m 71ms/step - accuracy: 0.9228 - loss: 0.2199 - val_accuracy: 0.8725 - val_loss: 0.3486\n",
            "Epoch 11/30\n",
            "\u001b[1m69/69\u001b[0m \u001b[32m━━━━━━━━━━━━━━━━━━━━\u001b[0m\u001b[37m\u001b[0m \u001b[1m4s\u001b[0m 50ms/step - accuracy: 0.9189 - loss: 0.2155 - val_accuracy: 0.8743 - val_loss: 0.3583\n",
            "Epoch 12/30\n",
            "\u001b[1m69/69\u001b[0m \u001b[32m━━━━━━━━━━━━━━━━━━━━\u001b[0m\u001b[37m\u001b[0m \u001b[1m4s\u001b[0m 59ms/step - accuracy: 0.9215 - loss: 0.2060 - val_accuracy: 0.8871 - val_loss: 0.3462\n",
            "Epoch 13/30\n",
            "\u001b[1m69/69\u001b[0m \u001b[32m━━━━━━━━━━━━━━━━━━━━\u001b[0m\u001b[37m\u001b[0m \u001b[1m5s\u001b[0m 75ms/step - accuracy: 0.9243 - loss: 0.2022 - val_accuracy: 0.8834 - val_loss: 0.3475\n",
            "Epoch 14/30\n",
            "\u001b[1m69/69\u001b[0m \u001b[32m━━━━━━━━━━━━━━━━━━━━\u001b[0m\u001b[37m\u001b[0m \u001b[1m9s\u001b[0m 59ms/step - accuracy: 0.9372 - loss: 0.1730 - val_accuracy: 0.8871 - val_loss: 0.3495\n"
          ]
        }
      ]
    },
    {
      "cell_type": "code",
      "source": [
        "pred_probs= model.predict(X_test)"
      ],
      "metadata": {
        "colab": {
          "base_uri": "https://localhost:8080/"
        },
        "id": "ZJxJrG6KQkVW",
        "outputId": "acc8a134-7a8c-4fa2-b074-fb528085d235"
      },
      "execution_count": null,
      "outputs": [
        {
          "output_type": "stream",
          "name": "stdout",
          "text": [
            "\u001b[1m29/29\u001b[0m \u001b[32m━━━━━━━━━━━━━━━━━━━━\u001b[0m\u001b[37m\u001b[0m \u001b[1m8s\u001b[0m 197ms/step\n"
          ]
        }
      ]
    },
    {
      "cell_type": "code",
      "source": [
        "pred_classes = np.argmax(pred_probs, axis=1)"
      ],
      "metadata": {
        "id": "_R1sX4mYRbd6"
      },
      "execution_count": null,
      "outputs": []
    },
    {
      "cell_type": "code",
      "source": [
        "class_names = train_ds.class_names"
      ],
      "metadata": {
        "id": "u19TGJt-RjXi"
      },
      "execution_count": null,
      "outputs": []
    },
    {
      "cell_type": "code",
      "source": [
        "predicted_labels = [class_names[i] for i in pred_classes]"
      ],
      "metadata": {
        "id": "aEnz9E1PRlSK"
      },
      "execution_count": null,
      "outputs": []
    },
    {
      "cell_type": "code",
      "source": [
        "for fname, label in zip(test_filenames, predicted_labels):\n",
        "    print(f\"{fname} -> {label}\")"
      ],
      "metadata": {
        "colab": {
          "base_uri": "https://localhost:8080/"
        },
        "collapsed": true,
        "id": "YUgRN6iKRzaD",
        "outputId": "0ad0b55d-feac-41b4-f59e-fb00bd63cc33"
      },
      "execution_count": null,
      "outputs": [
        {
          "output_type": "stream",
          "name": "stdout",
          "text": [
            "Image_424.jpg -> dandelion\n",
            "Image_825.jpg -> dandelion\n",
            "Image_42.jpg -> dandelion\n",
            "Image_105.jpg -> dandelion\n",
            "Image_791.jpg -> dandelion\n",
            "Image_447.jpg -> dandelion\n",
            "Image_223.jpg -> dandelion\n",
            "Image_595.jpg -> dandelion\n",
            "Image_216.jpg -> dandelion\n",
            "Image_668.jpg -> dandelion\n",
            "Image_276.jpg -> dandelion\n",
            "Image_732.jpg -> dandelion\n",
            "Image_636.jpg -> dandelion\n",
            "Image_246.jpg -> dandelion\n",
            "Image_689.jpg -> dandelion\n",
            "Image_903.jpg -> dandelion\n",
            "Image_339.jpg -> dandelion\n",
            "Image_681.jpg -> dandelion\n",
            "Image_345.jpg -> dandelion\n",
            "Image_356.jpg -> dandelion\n",
            "Image_850.jpg -> dandelion\n",
            "Image_671.jpg -> dandelion\n",
            "Image_702.jpg -> dandelion\n",
            "Image_842.jpg -> dandelion\n",
            "Image_432.jpg -> dandelion\n",
            "Image_3.jpg -> dandelion\n",
            "Image_204.jpg -> dandelion\n",
            "Image_268.jpg -> dandelion\n",
            "Image_508.jpg -> dandelion\n",
            "Image_48.jpg -> dandelion\n",
            "Image_653.jpg -> dandelion\n",
            "Image_154.jpg -> dandelion\n",
            "Image_449.jpg -> dandelion\n",
            "Image_94.jpg -> dandelion\n",
            "Image_679.jpg -> dandelion\n",
            "Image_107.jpg -> dandelion\n",
            "Image_253.jpg -> dandelion\n",
            "Image_673.jpg -> dandelion\n",
            "Image_601.jpg -> dandelion\n",
            "Image_735.jpg -> dandelion\n",
            "Image_803.jpg -> dandelion\n",
            "Image_261.jpg -> dandelion\n",
            "Image_647.jpg -> dandelion\n",
            "Image_383.jpg -> dandelion\n",
            "Image_35.jpg -> dandelion\n",
            "Image_796.jpg -> dandelion\n",
            "Image_578.jpg -> dandelion\n",
            "Image_917.jpg -> dandelion\n",
            "Image_615.jpg -> dandelion\n",
            "Image_277.jpg -> dandelion\n",
            "Image_855.jpg -> dandelion\n",
            "Image_104.jpg -> dandelion\n",
            "Image_686.jpg -> dandelion\n",
            "Image_784.jpg -> dandelion\n",
            "Image_230.jpg -> dandelion\n",
            "Image_600.jpg -> dandelion\n",
            "Image_458.jpg -> dandelion\n",
            "Image_49.jpg -> dandelion\n",
            "Image_176.jpg -> dandelion\n",
            "Image_26.jpg -> dandelion\n",
            "Image_433.jpg -> dandelion\n",
            "Image_61.jpg -> dandelion\n",
            "Image_839.jpg -> dandelion\n",
            "Image_97.jpg -> dandelion\n",
            "Image_157.jpg -> dandelion\n",
            "Image_832.jpg -> dandelion\n",
            "Image_569.jpg -> dandelion\n",
            "Image_495.jpg -> dandelion\n",
            "Image_655.jpg -> dandelion\n",
            "Image_363.jpg -> dandelion\n",
            "Image_203.jpg -> dandelion\n",
            "Image_752.jpg -> dandelion\n",
            "Image_248.jpg -> dandelion\n",
            "Image_242.jpg -> dandelion\n",
            "Image_916.jpg -> dandelion\n",
            "Image_453.jpg -> dandelion\n",
            "Image_895.jpg -> dandelion\n",
            "Image_76.jpg -> dandelion\n",
            "Image_644.jpg -> dandelion\n",
            "Image_471.jpg -> dandelion\n",
            "Image_524.jpg -> dandelion\n",
            "Image_380.jpg -> dandelion\n",
            "Image_762.jpg -> dandelion\n",
            "Image_812.jpg -> dandelion\n",
            "Image_309.jpg -> dandelion\n",
            "Image_310.jpg -> dandelion\n",
            "Image_452.jpg -> dandelion\n",
            "Image_522.jpg -> dandelion\n",
            "Image_398.jpg -> dandelion\n",
            "Image_7.jpg -> dandelion\n",
            "Image_178.jpg -> dandelion\n",
            "Image_585.jpg -> dandelion\n",
            "Image_483.jpg -> dandelion\n",
            "Image_651.jpg -> dandelion\n",
            "Image_749.jpg -> dandelion\n",
            "Image_87.jpg -> dandelion\n",
            "Image_628.jpg -> dandelion\n",
            "Image_198.jpg -> dandelion\n",
            "Image_211.jpg -> dandelion\n",
            "Image_564.jpg -> dandelion\n",
            "Image_722.jpg -> dandelion\n",
            "Image_91.jpg -> dandelion\n",
            "Image_109.jpg -> dandelion\n",
            "Image_20.jpg -> dandelion\n",
            "Image_661.jpg -> dandelion\n",
            "Image_313.jpg -> dandelion\n",
            "Image_905.jpg -> dandelion\n",
            "Image_624.jpg -> dandelion\n",
            "Image_124.jpg -> dandelion\n",
            "Image_526.jpg -> dandelion\n",
            "Image_869.jpg -> dandelion\n",
            "Image_461.jpg -> dandelion\n",
            "Image_527.jpg -> dandelion\n",
            "Image_792.jpg -> dandelion\n",
            "Image_24.jpg -> dandelion\n",
            "Image_229.jpg -> dandelion\n",
            "Image_450.jpg -> dandelion\n",
            "Image_612.jpg -> dandelion\n",
            "Image_851.jpg -> dandelion\n",
            "Image_344.jpg -> dandelion\n",
            "Image_846.jpg -> dandelion\n",
            "Image_546.jpg -> dandelion\n",
            "Image_70.jpg -> dandelion\n",
            "Image_92.jpg -> dandelion\n",
            "Image_112.jpg -> dandelion\n",
            "Image_822.jpg -> dandelion\n",
            "Image_334.jpg -> dandelion\n",
            "Image_920.jpg -> dandelion\n",
            "Image_258.jpg -> dandelion\n",
            "Image_560.jpg -> dandelion\n",
            "Image_520.jpg -> dandelion\n",
            "Image_482.jpg -> dandelion\n",
            "Image_519.jpg -> dandelion\n",
            "Image_632.jpg -> dandelion\n",
            "Image_18.jpg -> dandelion\n",
            "Image_338.jpg -> dandelion\n",
            "Image_127.jpg -> dandelion\n",
            "Image_865.jpg -> dandelion\n",
            "Image_611.jpg -> dandelion\n",
            "Image_464.jpg -> dandelion\n",
            "Image_500.jpg -> dandelion\n",
            "Image_480.jpg -> dandelion\n",
            "Image_283.jpg -> dandelion\n",
            "Image_909.jpg -> dandelion\n",
            "Image_63.jpg -> dandelion\n",
            "Image_69.jpg -> dandelion\n",
            "Image_311.jpg -> dandelion\n",
            "Image_254.jpg -> dandelion\n",
            "Image_102.jpg -> dandelion\n",
            "Image_910.jpg -> dandelion\n",
            "Image_231.jpg -> dandelion\n",
            "Image_640.jpg -> dandelion\n",
            "Image_369.jpg -> dandelion\n",
            "Image_833.jpg -> dandelion\n",
            "Image_263.jpg -> dandelion\n",
            "Image_836.jpg -> dandelion\n",
            "Image_616.jpg -> dandelion\n",
            "Image_301.jpg -> dandelion\n",
            "Image_442.jpg -> dandelion\n",
            "Image_852.jpg -> dandelion\n",
            "Image_266.jpg -> dandelion\n",
            "Image_441.jpg -> dandelion\n",
            "Image_798.jpg -> dandelion\n",
            "Image_820.jpg -> dandelion\n",
            "Image_778.jpg -> dandelion\n",
            "Image_517.jpg -> dandelion\n",
            "Image_333.jpg -> dandelion\n",
            "Image_72.jpg -> dandelion\n",
            "Image_273.jpg -> dandelion\n",
            "Image_914.jpg -> dandelion\n",
            "Image_919.jpg -> dandelion\n",
            "Image_793.jpg -> dandelion\n",
            "Image_393.jpg -> dandelion\n",
            "Image_397.jpg -> dandelion\n",
            "Image_513.jpg -> dandelion\n",
            "Image_44.jpg -> dandelion\n",
            "Image_317.jpg -> dandelion\n",
            "Image_849.jpg -> dandelion\n",
            "Image_858.jpg -> dandelion\n",
            "Image_716.jpg -> dandelion\n",
            "Image_826.jpg -> dandelion\n",
            "Image_98.jpg -> dandelion\n",
            "Image_180.jpg -> dandelion\n",
            "Image_761.jpg -> dandelion\n",
            "Image_704.jpg -> dandelion\n",
            "Image_292.jpg -> dandelion\n",
            "Image_282.jpg -> dandelion\n",
            "Image_710.jpg -> dandelion\n",
            "Image_303.jpg -> dandelion\n",
            "Image_707.jpg -> dandelion\n",
            "Image_706.jpg -> dandelion\n",
            "Image_438.jpg -> dandelion\n",
            "Image_618.jpg -> dandelion\n",
            "Image_646.jpg -> dandelion\n",
            "Image_737.jpg -> dandelion\n",
            "Image_656.jpg -> dandelion\n",
            "Image_138.jpg -> dandelion\n",
            "Image_337.jpg -> dandelion\n",
            "Image_745.jpg -> dandelion\n",
            "Image_33.jpg -> dandelion\n",
            "Image_639.jpg -> dandelion\n",
            "Image_299.jpg -> dandelion\n",
            "Image_780.jpg -> dandelion\n",
            "Image_840.jpg -> dandelion\n",
            "Image_394.jpg -> dandelion\n",
            "Image_574.jpg -> dandelion\n",
            "Image_403.jpg -> dandelion\n",
            "Image_759.jpg -> dandelion\n",
            "Image_386.jpg -> dandelion\n",
            "Image_172.jpg -> dandelion\n",
            "Image_293.jpg -> dandelion\n",
            "Image_278.jpg -> dandelion\n",
            "Image_279.jpg -> dandelion\n",
            "Image_444.jpg -> dandelion\n",
            "Image_730.jpg -> dandelion\n",
            "Image_775.jpg -> dandelion\n",
            "Image_819.jpg -> dandelion\n",
            "Image_166.jpg -> dandelion\n",
            "Image_777.jpg -> dandelion\n",
            "Image_264.jpg -> dandelion\n",
            "Image_415.jpg -> dandelion\n",
            "Image_667.jpg -> dandelion\n",
            "Image_670.jpg -> dandelion\n",
            "Image_65.jpg -> dandelion\n",
            "Image_210.jpg -> dandelion\n",
            "Image_318.jpg -> dandelion\n",
            "Image_305.jpg -> dandelion\n",
            "Image_789.jpg -> dandelion\n",
            "Image_717.jpg -> dandelion\n",
            "Image_85.jpg -> dandelion\n",
            "Image_466.jpg -> dandelion\n",
            "Image_912.jpg -> dandelion\n",
            "Image_731.jpg -> dandelion\n",
            "Image_747.jpg -> dandelion\n",
            "Image_621.jpg -> dandelion\n",
            "Image_573.jpg -> dandelion\n",
            "Image_848.jpg -> dandelion\n",
            "Image_186.jpg -> dandelion\n",
            "Image_16.jpg -> dandelion\n",
            "Image_428.jpg -> dandelion\n",
            "Image_643.jpg -> dandelion\n",
            "Image_84.jpg -> dandelion\n",
            "Image_571.jpg -> dandelion\n",
            "Image_503.jpg -> dandelion\n",
            "Image_797.jpg -> dandelion\n",
            "Image_392.jpg -> dandelion\n",
            "Image_781.jpg -> dandelion\n",
            "Image_359.jpg -> dandelion\n",
            "Image_183.jpg -> dandelion\n",
            "Image_135.jpg -> dandelion\n",
            "Image_693.jpg -> dandelion\n",
            "Image_188.jpg -> dandelion\n",
            "Image_351.jpg -> dandelion\n",
            "Image_455.jpg -> dandelion\n",
            "Image_214.jpg -> dandelion\n",
            "Image_443.jpg -> dandelion\n",
            "Image_79.jpg -> dandelion\n",
            "Image_251.jpg -> dandelion\n",
            "Image_371.jpg -> dandelion\n",
            "Image_921.jpg -> dandelion\n",
            "Image_660.jpg -> dandelion\n",
            "Image_395.jpg -> dandelion\n",
            "Image_354.jpg -> dandelion\n",
            "Image_78.jpg -> dandelion\n",
            "Image_605.jpg -> dandelion\n",
            "Image_714.jpg -> dandelion\n",
            "Image_332.jpg -> dandelion\n",
            "Image_489.jpg -> dandelion\n",
            "Image_391.jpg -> dandelion\n",
            "Image_728.jpg -> dandelion\n",
            "Image_445.jpg -> dandelion\n",
            "Image_633.jpg -> dandelion\n",
            "Image_390.jpg -> dandelion\n",
            "Image_908.jpg -> dandelion\n",
            "Image_160.jpg -> dandelion\n",
            "Image_496.jpg -> dandelion\n",
            "Image_906.jpg -> dandelion\n",
            "Image_133.jpg -> dandelion\n",
            "Image_552.jpg -> dandelion\n",
            "Image_89.jpg -> dandelion\n",
            "Image_484.jpg -> dandelion\n",
            "Image_88.jpg -> dandelion\n",
            "Image_113.jpg -> dandelion\n",
            "Image_662.jpg -> dandelion\n",
            "Image_532.jpg -> dandelion\n",
            "Image_153.jpg -> dandelion\n",
            "Image_384.jpg -> dandelion\n",
            "Image_606.jpg -> dandelion\n",
            "Image_744.jpg -> dandelion\n",
            "Image_156.jpg -> dandelion\n",
            "Image_879.jpg -> dandelion\n",
            "Image_790.jpg -> dandelion\n",
            "Image_485.jpg -> dandelion\n",
            "Image_215.jpg -> dandelion\n",
            "Image_190.jpg -> dandelion\n",
            "Image_623.jpg -> dandelion\n",
            "Image_808.jpg -> dandelion\n",
            "Image_787.jpg -> dandelion\n",
            "Image_151.jpg -> dandelion\n",
            "Image_103.jpg -> dandelion\n",
            "Image_582.jpg -> dandelion\n",
            "Image_592.jpg -> dandelion\n",
            "Image_358.jpg -> dandelion\n",
            "Image_751.jpg -> dandelion\n",
            "Image_915.jpg -> dandelion\n",
            "Image_364.jpg -> dandelion\n",
            "Image_19.jpg -> dandelion\n",
            "Image_101.jpg -> dandelion\n",
            "Image_412.jpg -> dandelion\n",
            "Image_465.jpg -> dandelion\n",
            "Image_557.jpg -> dandelion\n",
            "Image_368.jpg -> dandelion\n",
            "Image_53.jpg -> dandelion\n",
            "Image_870.jpg -> dandelion\n",
            "Image_74.jpg -> dandelion\n",
            "Image_733.jpg -> dandelion\n",
            "Image_893.jpg -> dandelion\n",
            "Image_498.jpg -> dandelion\n",
            "Image_657.jpg -> dandelion\n",
            "Image_419.jpg -> dandelion\n",
            "Image_645.jpg -> dandelion\n",
            "Image_779.jpg -> dandelion\n",
            "Image_241.jpg -> dandelion\n",
            "Image_549.jpg -> dandelion\n",
            "Image_173.jpg -> dandelion\n",
            "Image_247.jpg -> dandelion\n",
            "Image_690.jpg -> dandelion\n",
            "Image_748.jpg -> dandelion\n",
            "Image_771.jpg -> dandelion\n",
            "Image_760.jpg -> dandelion\n",
            "Image_627.jpg -> dandelion\n",
            "Image_131.jpg -> dandelion\n",
            "Image_684.jpg -> dandelion\n",
            "Image_454.jpg -> dandelion\n",
            "Image_537.jpg -> dandelion\n",
            "Image_542.jpg -> dandelion\n",
            "Image_718.jpg -> dandelion\n",
            "Image_96.jpg -> dandelion\n",
            "Image_381.jpg -> dandelion\n",
            "Image_289.jpg -> dandelion\n",
            "Image_5.jpg -> dandelion\n",
            "Image_372.jpg -> dandelion\n",
            "Image_169.jpg -> dandelion\n",
            "Image_476.jpg -> dandelion\n",
            "Image_77.jpg -> dandelion\n",
            "Image_758.jpg -> dandelion\n",
            "Image_510.jpg -> dandelion\n",
            "Image_152.jpg -> dandelion\n",
            "Image_608.jpg -> dandelion\n",
            "Image_280.jpg -> dandelion\n",
            "Image_726.jpg -> dandelion\n",
            "Image_187.jpg -> dandelion\n",
            "Image_534.jpg -> dandelion\n",
            "Image_207.jpg -> dandelion\n",
            "Image_325.jpg -> dandelion\n",
            "Image_437.jpg -> dandelion\n",
            "Image_64.jpg -> dandelion\n",
            "Image_902.jpg -> dandelion\n",
            "Image_99.jpg -> dandelion\n",
            "Image_164.jpg -> dandelion\n",
            "Image_68.jpg -> dandelion\n",
            "Image_177.jpg -> dandelion\n",
            "Image_128.jpg -> dandelion\n",
            "Image_878.jpg -> dandelion\n",
            "Image_834.jpg -> dandelion\n",
            "Image_275.jpg -> dandelion\n",
            "Image_294.jpg -> dandelion\n",
            "Image_629.jpg -> dandelion\n",
            "Image_179.jpg -> dandelion\n",
            "Image_721.jpg -> dandelion\n",
            "Image_683.jpg -> dandelion\n",
            "Image_767.jpg -> dandelion\n",
            "Image_343.jpg -> dandelion\n",
            "Image_414.jpg -> dandelion\n",
            "Image_555.jpg -> dandelion\n",
            "Image_243.jpg -> dandelion\n",
            "Image_209.jpg -> dandelion\n",
            "Image_60.jpg -> dandelion\n",
            "Image_572.jpg -> dandelion\n",
            "Image_766.jpg -> dandelion\n",
            "Image_659.jpg -> dandelion\n",
            "Image_32.jpg -> dandelion\n",
            "Image_440.jpg -> dandelion\n",
            "Image_488.jpg -> dandelion\n",
            "Image_387.jpg -> dandelion\n",
            "Image_238.jpg -> dandelion\n",
            "Image_307.jpg -> dandelion\n",
            "Image_625.jpg -> dandelion\n",
            "Image_259.jpg -> dandelion\n",
            "Image_720.jpg -> dandelion\n",
            "Image_658.jpg -> dandelion\n",
            "Image_875.jpg -> dandelion\n",
            "Image_146.jpg -> dandelion\n",
            "Image_435.jpg -> dandelion\n",
            "Image_729.jpg -> dandelion\n",
            "Image_439.jpg -> dandelion\n",
            "Image_663.jpg -> dandelion\n",
            "Image_236.jpg -> dandelion\n",
            "Image_132.jpg -> dandelion\n",
            "Image_469.jpg -> dandelion\n",
            "Image_14.jpg -> dandelion\n",
            "Image_125.jpg -> dandelion\n",
            "Image_73.jpg -> dandelion\n",
            "Image_285.jpg -> dandelion\n",
            "Image_860.jpg -> dandelion\n",
            "Image_396.jpg -> dandelion\n",
            "Image_82.jpg -> dandelion\n",
            "Image_795.jpg -> dandelion\n",
            "Image_817.jpg -> dandelion\n",
            "Image_329.jpg -> dandelion\n",
            "Image_142.jpg -> dandelion\n",
            "Image_631.jpg -> dandelion\n",
            "Image_675.jpg -> dandelion\n",
            "Image_650.jpg -> dandelion\n",
            "Image_436.jpg -> dandelion\n",
            "Image_59.jpg -> dandelion\n",
            "Image_100.jpg -> dandelion\n",
            "Image_567.jpg -> dandelion\n",
            "Image_51.jpg -> dandelion\n",
            "Image_93.jpg -> dandelion\n",
            "Image_824.jpg -> dandelion\n",
            "Image_896.jpg -> dandelion\n",
            "Image_286.jpg -> dandelion\n",
            "Image_111.jpg -> dandelion\n",
            "Image_66.jpg -> dandelion\n",
            "Image_897.jpg -> dandelion\n",
            "Image_375.jpg -> dandelion\n",
            "Image_434.jpg -> dandelion\n",
            "Image_475.jpg -> dandelion\n",
            "Image_843.jpg -> dandelion\n",
            "Image_499.jpg -> dandelion\n",
            "Image_565.jpg -> dandelion\n",
            "Image_715.jpg -> dandelion\n",
            "Image_698.jpg -> dandelion\n",
            "Image_887.jpg -> dandelion\n",
            "Image_676.jpg -> dandelion\n",
            "Image_144.jpg -> dandelion\n",
            "Image_719.jpg -> dandelion\n",
            "Image_335.jpg -> dandelion\n",
            "Image_866.jpg -> dandelion\n",
            "Image_404.jpg -> dandelion\n",
            "Image_619.jpg -> dandelion\n",
            "Image_58.jpg -> dandelion\n",
            "Image_451.jpg -> dandelion\n",
            "Image_626.jpg -> dandelion\n",
            "Image_867.jpg -> dandelion\n",
            "Image_665.jpg -> dandelion\n",
            "Image_881.jpg -> dandelion\n",
            "Image_120.jpg -> dandelion\n",
            "Image_256.jpg -> dandelion\n",
            "Image_306.jpg -> dandelion\n",
            "Image_399.jpg -> dandelion\n",
            "Image_547.jpg -> dandelion\n",
            "Image_583.jpg -> dandelion\n",
            "Image_890.jpg -> dandelion\n",
            "Image_776.jpg -> dandelion\n",
            "Image_389.jpg -> dandelion\n",
            "Image_603.jpg -> dandelion\n",
            "Image_12.jpg -> dandelion\n",
            "Image_813.jpg -> dandelion\n",
            "Image_269.jpg -> dandelion\n",
            "Image_521.jpg -> dandelion\n",
            "Image_233.jpg -> dandelion\n",
            "Image_804.jpg -> dandelion\n",
            "Image_378.jpg -> dandelion\n",
            "Image_341.jpg -> dandelion\n",
            "Image_50.jpg -> dandelion\n",
            "Image_336.jpg -> dandelion\n",
            "Image_785.jpg -> dandelion\n",
            "Image_114.jpg -> dandelion\n",
            "Image_45.jpg -> dandelion\n",
            "Image_648.jpg -> dandelion\n",
            "Image_202.jpg -> dandelion\n",
            "Image_401.jpg -> dandelion\n",
            "Image_584.jpg -> dandelion\n",
            "Image_774.jpg -> dandelion\n",
            "Image_512.jpg -> dandelion\n",
            "Image_491.jpg -> dandelion\n",
            "Image_563.jpg -> dandelion\n",
            "Image_888.jpg -> dandelion\n",
            "Image_697.jpg -> dandelion\n",
            "Image_613.jpg -> dandelion\n",
            "Image_868.jpg -> dandelion\n",
            "Image_923.jpg -> dandelion\n",
            "Image_312.jpg -> dandelion\n",
            "Image_835.jpg -> dandelion\n",
            "Image_373.jpg -> dandelion\n",
            "Image_541.jpg -> dandelion\n",
            "Image_597.jpg -> dandelion\n",
            "Image_456.jpg -> dandelion\n",
            "Image_106.jpg -> dandelion\n",
            "Image_841.jpg -> dandelion\n",
            "Image_913.jpg -> dandelion\n",
            "Image_83.jpg -> dandelion\n",
            "Image_598.jpg -> dandelion\n",
            "Image_406.jpg -> dandelion\n",
            "Image_284.jpg -> dandelion\n",
            "Image_165.jpg -> dandelion\n",
            "Image_1.jpg -> dandelion\n",
            "Image_366.jpg -> dandelion\n",
            "Image_206.jpg -> dandelion\n",
            "Image_562.jpg -> dandelion\n",
            "Image_353.jpg -> dandelion\n",
            "Image_90.jpg -> dandelion\n",
            "Image_110.jpg -> dandelion\n",
            "Image_143.jpg -> dandelion\n",
            "Image_141.jpg -> dandelion\n",
            "Image_129.jpg -> dandelion\n",
            "Image_40.jpg -> dandelion\n",
            "Image_533.jpg -> dandelion\n",
            "Image_924.jpg -> dandelion\n",
            "Image_509.jpg -> dandelion\n",
            "Image_342.jpg -> dandelion\n",
            "Image_544.jpg -> dandelion\n",
            "Image_470.jpg -> dandelion\n",
            "Image_29.jpg -> dandelion\n",
            "Image_712.jpg -> dandelion\n",
            "Image_538.jpg -> dandelion\n",
            "Image_319.jpg -> dandelion\n",
            "Image_815.jpg -> dandelion\n",
            "Image_561.jpg -> dandelion\n",
            "Image_52.jpg -> dandelion\n",
            "Image_377.jpg -> dandelion\n",
            "Image_807.jpg -> dandelion\n",
            "Image_388.jpg -> dandelion\n",
            "Image_891.jpg -> dandelion\n",
            "Image_576.jpg -> dandelion\n",
            "Image_295.jpg -> dandelion\n",
            "Image_738.jpg -> dandelion\n",
            "Image_587.jpg -> dandelion\n",
            "Image_579.jpg -> dandelion\n",
            "Image_757.jpg -> dandelion\n",
            "Image_511.jpg -> dandelion\n",
            "Image_56.jpg -> dandelion\n",
            "Image_331.jpg -> dandelion\n",
            "Image_250.jpg -> dandelion\n",
            "Image_86.jpg -> dandelion\n",
            "Image_222.jpg -> dandelion\n",
            "Image_159.jpg -> dandelion\n",
            "Image_725.jpg -> dandelion\n",
            "Image_95.jpg -> dandelion\n",
            "Image_708.jpg -> dandelion\n",
            "Image_853.jpg -> dandelion\n",
            "Image_161.jpg -> dandelion\n",
            "Image_25.jpg -> dandelion\n",
            "Image_296.jpg -> dandelion\n",
            "Image_753.jpg -> dandelion\n",
            "Image_550.jpg -> dandelion\n",
            "Image_192.jpg -> dandelion\n",
            "Image_506.jpg -> dandelion\n",
            "Image_181.jpg -> dandelion\n",
            "Image_695.jpg -> dandelion\n",
            "Image_323.jpg -> dandelion\n",
            "Image_788.jpg -> dandelion\n",
            "Image_175.jpg -> dandelion\n",
            "Image_837.jpg -> dandelion\n",
            "Image_425.jpg -> dandelion\n",
            "Image_213.jpg -> dandelion\n",
            "Image_672.jpg -> dandelion\n",
            "Image_543.jpg -> dandelion\n",
            "Image_34.jpg -> dandelion\n",
            "Image_244.jpg -> dandelion\n",
            "Image_705.jpg -> dandelion\n",
            "Image_794.jpg -> dandelion\n",
            "Image_75.jpg -> dandelion\n",
            "Image_298.jpg -> dandelion\n",
            "Image_257.jpg -> dandelion\n",
            "Image_604.jpg -> dandelion\n",
            "Image_602.jpg -> dandelion\n",
            "Image_170.jpg -> dandelion\n",
            "Image_740.jpg -> dandelion\n",
            "Image_228.jpg -> dandelion\n",
            "Image_448.jpg -> dandelion\n",
            "Image_577.jpg -> dandelion\n",
            "Image_147.jpg -> dandelion\n",
            "Image_182.jpg -> dandelion\n",
            "Image_39.jpg -> dandelion\n",
            "Image_46.jpg -> dandelion\n",
            "Image_6.jpg -> dandelion\n",
            "Image_150.jpg -> dandelion\n",
            "Image_711.jpg -> dandelion\n",
            "Image_31.jpg -> dandelion\n",
            "Image_189.jpg -> dandelion\n",
            "Image_240.jpg -> dandelion\n",
            "Image_828.jpg -> dandelion\n",
            "Image_620.jpg -> dandelion\n",
            "Image_694.jpg -> dandelion\n",
            "Image_382.jpg -> dandelion\n",
            "Image_168.jpg -> dandelion\n",
            "Image_861.jpg -> dandelion\n",
            "Image_271.jpg -> dandelion\n",
            "Image_894.jpg -> dandelion\n",
            "Image_823.jpg -> dandelion\n",
            "Image_536.jpg -> dandelion\n",
            "Image_548.jpg -> dandelion\n",
            "Image_431.jpg -> dandelion\n",
            "Image_528.jpg -> dandelion\n",
            "Image_830.jpg -> dandelion\n",
            "Image_540.jpg -> dandelion\n",
            "Image_816.jpg -> dandelion\n",
            "Image_320.jpg -> dandelion\n",
            "Image_635.jpg -> dandelion\n",
            "Image_899.jpg -> dandelion\n",
            "Image_854.jpg -> dandelion\n",
            "Image_773.jpg -> dandelion\n",
            "Image_765.jpg -> dandelion\n",
            "Image_769.jpg -> dandelion\n",
            "Image_871.jpg -> dandelion\n",
            "Image_889.jpg -> dandelion\n",
            "Image_596.jpg -> dandelion\n",
            "Image_884.jpg -> dandelion\n",
            "Image_535.jpg -> dandelion\n",
            "Image_622.jpg -> dandelion\n",
            "Image_357.jpg -> dandelion\n",
            "Image_497.jpg -> dandelion\n",
            "Image_553.jpg -> dandelion\n",
            "Image_349.jpg -> dandelion\n",
            "Image_575.jpg -> dandelion\n",
            "Image_326.jpg -> dandelion\n",
            "Image_413.jpg -> dandelion\n",
            "Image_486.jpg -> dandelion\n",
            "Image_551.jpg -> dandelion\n",
            "Image_734.jpg -> dandelion\n",
            "Image_545.jpg -> dandelion\n",
            "Image_118.jpg -> dandelion\n",
            "Image_2.jpg -> dandelion\n",
            "Image_680.jpg -> dandelion\n",
            "Image_200.jpg -> dandelion\n",
            "Image_362.jpg -> dandelion\n",
            "Image_876.jpg -> dandelion\n",
            "Image_723.jpg -> dandelion\n",
            "Image_417.jpg -> dandelion\n",
            "Image_589.jpg -> dandelion\n",
            "Image_267.jpg -> dandelion\n",
            "Image_126.jpg -> dandelion\n",
            "Image_255.jpg -> dandelion\n",
            "Image_315.jpg -> dandelion\n",
            "Image_30.jpg -> dandelion\n",
            "Image_199.jpg -> dandelion\n",
            "Image_570.jpg -> dandelion\n",
            "Image_365.jpg -> dandelion\n",
            "Image_281.jpg -> dandelion\n",
            "Image_17.jpg -> dandelion\n",
            "Image_674.jpg -> dandelion\n",
            "Image_139.jpg -> dandelion\n",
            "Image_430.jpg -> dandelion\n",
            "Image_460.jpg -> dandelion\n",
            "Image_886.jpg -> dandelion\n",
            "Image_376.jpg -> dandelion\n",
            "Image_219.jpg -> dandelion\n",
            "Image_874.jpg -> dandelion\n",
            "Image_688.jpg -> dandelion\n",
            "Image_270.jpg -> dandelion\n",
            "Image_23.jpg -> dandelion\n",
            "Image_518.jpg -> dandelion\n",
            "Image_588.jpg -> dandelion\n",
            "Image_221.jpg -> dandelion\n",
            "Image_502.jpg -> dandelion\n",
            "Image_220.jpg -> dandelion\n",
            "Image_477.jpg -> dandelion\n",
            "Image_703.jpg -> dandelion\n",
            "Image_514.jpg -> dandelion\n",
            "Image_783.jpg -> dandelion\n",
            "Image_907.jpg -> dandelion\n",
            "Image_9.jpg -> dandelion\n",
            "Image_701.jpg -> dandelion\n",
            "Image_427.jpg -> dandelion\n",
            "Image_191.jpg -> dandelion\n",
            "Image_468.jpg -> dandelion\n",
            "Image_741.jpg -> dandelion\n",
            "Image_274.jpg -> dandelion\n",
            "Image_814.jpg -> dandelion\n",
            "Image_685.jpg -> dandelion\n",
            "Image_805.jpg -> dandelion\n",
            "Image_591.jpg -> dandelion\n",
            "Image_492.jpg -> dandelion\n",
            "Image_155.jpg -> dandelion\n",
            "Image_347.jpg -> dandelion\n",
            "Image_429.jpg -> dandelion\n",
            "Image_809.jpg -> dandelion\n",
            "Image_409.jpg -> dandelion\n",
            "Image_290.jpg -> dandelion\n",
            "Image_252.jpg -> dandelion\n",
            "Image_410.jpg -> dandelion\n",
            "Image_845.jpg -> dandelion\n",
            "Image_137.jpg -> dandelion\n",
            "Image_700.jpg -> dandelion\n",
            "Image_304.jpg -> dandelion\n",
            "Image_580.jpg -> dandelion\n",
            "Image_559.jpg -> dandelion\n",
            "Image_827.jpg -> dandelion\n",
            "Image_678.jpg -> dandelion\n",
            "Image_505.jpg -> dandelion\n",
            "Image_746.jpg -> dandelion\n",
            "Image_374.jpg -> dandelion\n",
            "Image_62.jpg -> dandelion\n",
            "Image_802.jpg -> dandelion\n",
            "Image_743.jpg -> dandelion\n",
            "Image_799.jpg -> dandelion\n",
            "Image_123.jpg -> dandelion\n",
            "Image_862.jpg -> dandelion\n",
            "Image_607.jpg -> dandelion\n",
            "Image_630.jpg -> dandelion\n",
            "Image_38.jpg -> dandelion\n",
            "Image_322.jpg -> dandelion\n",
            "Image_174.jpg -> dandelion\n",
            "Image_590.jpg -> dandelion\n",
            "Image_71.jpg -> dandelion\n",
            "Image_742.jpg -> dandelion\n",
            "Image_898.jpg -> dandelion\n",
            "Image_594.jpg -> dandelion\n",
            "Image_134.jpg -> dandelion\n",
            "Image_682.jpg -> dandelion\n",
            "Image_218.jpg -> dandelion\n",
            "Image_530.jpg -> dandelion\n",
            "Image_768.jpg -> dandelion\n",
            "Image_193.jpg -> dandelion\n",
            "Image_800.jpg -> dandelion\n",
            "Image_195.jpg -> dandelion\n",
            "Image_348.jpg -> dandelion\n",
            "Image_810.jpg -> dandelion\n",
            "Image_37.jpg -> dandelion\n",
            "Image_197.jpg -> dandelion\n",
            "Image_36.jpg -> dandelion\n",
            "Image_411.jpg -> dandelion\n",
            "Image_709.jpg -> dandelion\n",
            "Image_755.jpg -> dandelion\n",
            "Image_501.jpg -> dandelion\n",
            "Image_692.jpg -> dandelion\n",
            "Image_340.jpg -> dandelion\n",
            "Image_838.jpg -> dandelion\n",
            "Image_610.jpg -> dandelion\n",
            "Image_581.jpg -> dandelion\n",
            "Image_609.jpg -> dandelion\n",
            "Image_515.jpg -> dandelion\n",
            "Image_67.jpg -> dandelion\n",
            "Image_130.jpg -> dandelion\n",
            "Image_57.jpg -> dandelion\n",
            "Image_162.jpg -> dandelion\n",
            "Image_459.jpg -> dandelion\n",
            "Image_245.jpg -> dandelion\n",
            "Image_22.jpg -> dandelion\n",
            "Image_407.jpg -> dandelion\n",
            "Image_28.jpg -> dandelion\n",
            "Image_185.jpg -> dandelion\n",
            "Image_478.jpg -> dandelion\n",
            "Image_877.jpg -> dandelion\n",
            "Image_922.jpg -> dandelion\n",
            "Image_297.jpg -> dandelion\n",
            "Image_328.jpg -> dandelion\n",
            "Image_288.jpg -> dandelion\n",
            "Image_402.jpg -> dandelion\n",
            "Image_911.jpg -> dandelion\n",
            "Image_614.jpg -> dandelion\n",
            "Image_669.jpg -> dandelion\n",
            "Image_171.jpg -> dandelion\n",
            "Image_11.jpg -> dandelion\n",
            "Image_872.jpg -> dandelion\n",
            "Image_764.jpg -> dandelion\n",
            "Image_770.jpg -> dandelion\n",
            "Image_239.jpg -> dandelion\n",
            "Image_859.jpg -> dandelion\n",
            "Image_224.jpg -> dandelion\n",
            "Image_422.jpg -> dandelion\n",
            "Image_863.jpg -> dandelion\n",
            "Image_416.jpg -> dandelion\n",
            "Image_149.jpg -> dandelion\n",
            "Image_864.jpg -> dandelion\n",
            "Image_8.jpg -> dandelion\n",
            "Image_772.jpg -> dandelion\n",
            "Image_811.jpg -> dandelion\n",
            "Image_41.jpg -> dandelion\n",
            "Image_136.jpg -> dandelion\n",
            "Image_367.jpg -> dandelion\n",
            "Image_201.jpg -> dandelion\n",
            "Image_856.jpg -> dandelion\n",
            "Image_81.jpg -> dandelion\n",
            "Image_232.jpg -> dandelion\n",
            "Image_291.jpg -> dandelion\n",
            "Image_617.jpg -> dandelion\n",
            "Image_801.jpg -> dandelion\n",
            "Image_212.jpg -> dandelion\n",
            "Image_507.jpg -> dandelion\n",
            "Image_666.jpg -> dandelion\n",
            "Image_641.jpg -> dandelion\n",
            "Image_637.jpg -> dandelion\n",
            "Image_654.jpg -> dandelion\n",
            "Image_4.jpg -> dandelion\n",
            "Image_892.jpg -> dandelion\n",
            "Image_272.jpg -> dandelion\n",
            "Image_504.jpg -> dandelion\n",
            "Image_446.jpg -> dandelion\n",
            "Image_918.jpg -> dandelion\n",
            "Image_249.jpg -> dandelion\n",
            "Image_208.jpg -> dandelion\n",
            "Image_885.jpg -> dandelion\n",
            "Image_691.jpg -> dandelion\n",
            "Image_321.jpg -> dandelion\n",
            "Image_566.jpg -> dandelion\n",
            "Image_493.jpg -> dandelion\n",
            "Image_586.jpg -> dandelion\n",
            "Image_556.jpg -> dandelion\n",
            "Image_900.jpg -> dandelion\n",
            "Image_330.jpg -> dandelion\n",
            "Image_217.jpg -> dandelion\n",
            "Image_15.jpg -> dandelion\n",
            "Image_687.jpg -> dandelion\n",
            "Image_421.jpg -> dandelion\n",
            "Image_346.jpg -> dandelion\n",
            "Image_140.jpg -> dandelion\n",
            "Image_237.jpg -> dandelion\n",
            "Image_873.jpg -> dandelion\n",
            "Image_474.jpg -> dandelion\n",
            "Image_818.jpg -> dandelion\n",
            "Image_568.jpg -> dandelion\n",
            "Image_763.jpg -> dandelion\n",
            "Image_350.jpg -> dandelion\n",
            "Image_148.jpg -> dandelion\n",
            "Image_649.jpg -> dandelion\n",
            "Image_352.jpg -> dandelion\n",
            "Image_184.jpg -> dandelion\n",
            "Image_27.jpg -> dandelion\n",
            "Image_847.jpg -> dandelion\n",
            "Image_116.jpg -> dandelion\n",
            "Image_205.jpg -> dandelion\n",
            "Image_901.jpg -> dandelion\n",
            "Image_829.jpg -> dandelion\n",
            "Image_287.jpg -> dandelion\n",
            "Image_750.jpg -> dandelion\n",
            "Image_43.jpg -> dandelion\n",
            "Image_225.jpg -> dandelion\n",
            "Image_462.jpg -> dandelion\n",
            "Image_262.jpg -> dandelion\n",
            "Image_265.jpg -> dandelion\n",
            "Image_531.jpg -> dandelion\n",
            "Image_13.jpg -> dandelion\n",
            "Image_494.jpg -> dandelion\n",
            "Image_739.jpg -> dandelion\n",
            "Image_479.jpg -> dandelion\n",
            "Image_385.jpg -> dandelion\n",
            "Image_664.jpg -> dandelion\n",
            "Image_782.jpg -> dandelion\n",
            "Image_194.jpg -> dandelion\n",
            "Image_481.jpg -> dandelion\n",
            "Image_196.jpg -> dandelion\n",
            "Image_642.jpg -> dandelion\n",
            "Image_121.jpg -> dandelion\n",
            "Image_360.jpg -> dandelion\n",
            "Image_370.jpg -> dandelion\n",
            "Image_54.jpg -> dandelion\n",
            "Image_754.jpg -> dandelion\n",
            "Image_699.jpg -> dandelion\n",
            "Image_677.jpg -> dandelion\n",
            "Image_10.jpg -> dandelion\n",
            "Image_806.jpg -> dandelion\n",
            "Image_904.jpg -> dandelion\n",
            "Image_308.jpg -> dandelion\n",
            "Image_379.jpg -> dandelion\n",
            "Image_727.jpg -> dandelion\n",
            "Image_593.jpg -> dandelion\n",
            "Image_880.jpg -> dandelion\n",
            "Image_821.jpg -> dandelion\n",
            "Image_516.jpg -> dandelion\n",
            "Image_324.jpg -> dandelion\n",
            "Image_119.jpg -> dandelion\n",
            "Image_300.jpg -> dandelion\n",
            "Image_117.jpg -> dandelion\n",
            "Image_405.jpg -> dandelion\n",
            "Image_80.jpg -> dandelion\n",
            "Image_831.jpg -> dandelion\n",
            "Image_418.jpg -> dandelion\n",
            "Image_756.jpg -> dandelion\n",
            "Image_467.jpg -> dandelion\n",
            "Image_844.jpg -> dandelion\n",
            "Image_260.jpg -> dandelion\n",
            "Image_327.jpg -> dandelion\n",
            "Image_558.jpg -> dandelion\n",
            "Image_47.jpg -> dandelion\n",
            "Image_163.jpg -> dandelion\n",
            "Image_108.jpg -> dandelion\n",
            "Image_634.jpg -> dandelion\n",
            "Image_400.jpg -> dandelion\n",
            "Image_857.jpg -> dandelion\n",
            "Image_525.jpg -> dandelion\n",
            "Image_355.jpg -> dandelion\n",
            "Image_724.jpg -> dandelion\n",
            "Image_361.jpg -> dandelion\n",
            "Image_473.jpg -> dandelion\n",
            "Image_523.jpg -> dandelion\n",
            "Image_487.jpg -> dandelion\n",
            "Image_302.jpg -> dandelion\n",
            "Image_227.jpg -> dandelion\n",
            "Image_713.jpg -> dandelion\n",
            "Image_882.jpg -> dandelion\n",
            "Image_234.jpg -> dandelion\n",
            "Image_599.jpg -> dandelion\n",
            "Image_696.jpg -> dandelion\n",
            "Image_21.jpg -> dandelion\n",
            "Image_638.jpg -> dandelion\n",
            "Image_463.jpg -> dandelion\n",
            "Image_314.jpg -> dandelion\n",
            "Image_786.jpg -> dandelion\n",
            "Image_529.jpg -> dandelion\n",
            "Image_554.jpg -> dandelion\n",
            "Image_652.jpg -> dandelion\n",
            "Image_408.jpg -> dandelion\n",
            "Image_167.jpg -> dandelion\n",
            "Image_235.jpg -> dandelion\n",
            "Image_736.jpg -> dandelion\n",
            "Image_226.jpg -> dandelion\n",
            "Image_122.jpg -> dandelion\n",
            "Image_55.jpg -> dandelion\n",
            "Image_145.jpg -> dandelion\n",
            "Image_316.jpg -> dandelion\n",
            "Image_115.jpg -> dandelion\n",
            "Image_883.jpg -> dandelion\n",
            "Image_472.jpg -> dandelion\n",
            "Image_490.jpg -> dandelion\n",
            "Image_423.jpg -> dandelion\n",
            "Image_539.jpg -> dandelion\n",
            "Image_457.jpg -> dandelion\n",
            "Image_158.jpg -> dandelion\n",
            "Image_420.jpg -> dandelion\n",
            "Image_426.jpg -> dandelion\n"
          ]
        }
      ]
    },
    {
      "cell_type": "code",
      "source": [
        "acc = history.history['accuracy']\n",
        "val_acc = history.history['val_accuracy']\n",
        "epochs = range(1, len(acc) + 1)\n",
        "\n",
        "plt.figure(figsize=(8, 6))\n",
        "plt.plot(epochs, acc, 'bo-', label='Training Accuracy')\n",
        "plt.plot(epochs, val_acc, 'ro-', label='Validation Accuracy')\n",
        "plt.title('Training and Validation Accuracy')\n",
        "plt.xlabel('Epochs')\n",
        "plt.ylabel('Accuracy')\n",
        "plt.legend()\n",
        "plt.grid(True)\n",
        "plt.show()"
      ],
      "metadata": {
        "colab": {
          "base_uri": "https://localhost:8080/",
          "height": 564
        },
        "id": "np2TYeFzTcX1",
        "outputId": "77733431-4047-4969-8f96-7ece8869f647"
      },
      "execution_count": null,
      "outputs": [
        {
          "output_type": "display_data",
          "data": {
            "text/plain": [
              "<Figure size 800x600 with 1 Axes>"
            ],
            "image/png": "[encoded data removed]"
          },
          "metadata": {}
        }
      ]
    },
    {
      "cell_type": "code",
      "source": [
        "model.save('/content/flower classification.h5')"
      ],
      "metadata": {
        "colab": {
          "base_uri": "https://localhost:8080/"
        },
        "id": "I2p1ypQwT9Xb",
        "outputId": "9cdf31c7-c88a-41ff-e1de-45389d3feb22"
      },
      "execution_count": null,
      "outputs": [
        {
          "output_type": "stream",
          "name": "stderr",
          "text": [
            "WARNING:absl:You are saving your model as an HDF5 file via `model.save()` or `keras.saving.save_model(model)`. This file format is considered legacy. We recommend using instead the native Keras format, e.g. `model.save('my_model.keras')` or `keras.saving.save_model(model, 'my_model.keras')`. \n"
          ]
        }
      ]
    },
    {
      "cell_type": "code",
      "source": [
        "import pickle\n",
        "with open('/content/flower_model_history.pkl', 'wb') as f:\n",
        "    pickle.dump(history.history, f)"
      ],
      "metadata": {
        "id": "oi1ucUv-VoHU"
      },
      "execution_count": null,
      "outputs": []
    },
    {
      "cell_type": "code",
      "source": [
        "!zip -r /content/flowers_dataset.zip /content/flowers/"
      ],
      "metadata": {
        "colab": {
          "base_uri": "https://localhost:8080/"
        },
        "id": "mMc4jQeBVsa8",
        "outputId": "ac915cfc-73fd-4367-ee50-5c524b30bf1a"
      },
      "execution_count": null,
      "outputs": [
        {
          "output_type": "stream",
          "name": "stdout",
          "text": [
            "\tzip warning: name not matched: /content/flowers/\n",
            "\n",
            "zip error: Nothing to do! (try: zip -r /content/flowers_dataset.zip . -i /content/flowers/)\n"
          ]
        }
      ]
    },
    {
      "cell_type": "code",
      "source": [],
      "metadata": {
        "id": "02TS9QgcVwMc"
      },
      "execution_count": null,
      "outputs": []
    }
  ]
}